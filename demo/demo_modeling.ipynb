{
 "cells": [
  {
   "cell_type": "markdown",
   "metadata": {},
   "source": [
    "## Vectice Configuration"
   ]
  },
  {
   "cell_type": "code",
   "execution_count": 2,
   "metadata": {
    "collapsed": true,
    "jupyter": {
     "outputs_hidden": true
    }
   },
   "outputs": [
    {
     "name": "stdout",
     "output_type": "stream",
     "text": [
      "\u001b[33mWARNING: Running pip as the 'root' user can result in broken permissions and conflicting behaviour with the system package manager. It is recommended to use a virtual environment instead: https://pip.pypa.io/warnings/venv\u001b[0m\u001b[33m\n",
      "\u001b[0m"
     ]
    }
   ],
   "source": [
    "#Install Vectice Python library \n",
    "# In this notebook we will do code versioning using github, we also support gitlab\n",
    "# and bitbucket: !pip install -q \"vectice[github, gitlab, bitbucket]\"\n",
    "!pip install --q vectice[github]==22.3.5.1"
   ]
  },
  {
   "cell_type": "code",
   "execution_count": 3,
   "metadata": {},
   "outputs": [
    {
     "name": "stdout",
     "output_type": "stream",
     "text": [
      "Name: vectice\n",
      "Version: 22.3.5.1\n",
      "Summary: Vectice Python library\n",
      "Home-page: https://www.vectice.com\n",
      "Author: Vectice Inc.\n",
      "Author-email: sdk@vectice.com\n",
      "License: Apache License 2.0\n",
      "Location: /opt/conda/lib/python3.7/site-packages\n",
      "Requires: python-dotenv, requests, urllib3\n",
      "Required-by: \n"
     ]
    }
   ],
   "source": [
    "#Verify if Vectice python library was installed\n",
    "!pip3 show vectice"
   ]
  },
  {
   "cell_type": "code",
   "execution_count": 4,
   "metadata": {
    "jupyter": {
     "source_hidden": true
    }
   },
   "outputs": [],
   "source": [
    "import json\n",
    "f = open('DSP_JDN.json',)\n",
    "DSP_JDN_key = json.load(f)"
   ]
  },
  {
   "cell_type": "code",
   "execution_count": 5,
   "metadata": {
    "jupyter": {
     "source_hidden": true
    }
   },
   "outputs": [],
   "source": [
    "#Import the required packages\n",
    "from vectice import Experiment\n",
    "from vectice.api.json import ModelType\n",
    "from vectice.api.json import JobType\n",
    "from vectice.api.json import JobArtifactType\n",
    "from vectice.api.json import ModelVersionStatus\n",
    "from vectice.api.json import VersionStrategy\n",
    "import logging\n",
    "import os\n",
    "logging.basicConfig(level=logging.INFO)\n",
    "\n",
    "# Specify the API endpoint for Vectice.\n",
    "# You can specify your API endpoint here in the notebook, but we recommand you to add it to a .env file\n",
    "os.environ['VECTICE_API_ENDPOINT']= \"app.vectice.com\"\n",
    "\n",
    "# To use the Vectice Python library, you first need to authenticate your account using an API token.\n",
    "# You can generate an API token from the Vectice UI, by going to the \"API Tokens\" section in the \"My Profile\" section\n",
    "# which is located under your profile picture.\n",
    "# You can specify your API Token here in the notebook, but we recommend you to add it to a .env file\n",
    "os.environ['VECTICE_API_TOKEN'] = DSP_JDN_key['key']\n",
    "\n",
    "# Add you project id. The project id can be found in the project settings page in the Vectice UI\n",
    "project_id = 4734"
   ]
  },
  {
   "cell_type": "markdown",
   "metadata": {},
   "source": [
    "## Setup environment for ML"
   ]
  },
  {
   "cell_type": "code",
   "execution_count": 6,
   "metadata": {},
   "outputs": [
    {
     "name": "stderr",
     "output_type": "stream",
     "text": [
      "INFO:numexpr.utils:NumExpr defaulting to 2 threads.\n"
     ]
    }
   ],
   "source": [
    "import os\n",
    "import pandas as pd\n",
    "from matplotlib import pyplot as plt\n",
    "%matplotlib inline"
   ]
  },
  {
   "cell_type": "code",
   "execution_count": 7,
   "metadata": {},
   "outputs": [],
   "source": [
    "\n",
    "import string\n",
    "from math import sqrt\n",
    "\n",
    "# Load scikit-learn packages\n",
    "from sklearn.model_selection import train_test_split  # Model Selection\n",
    "from sklearn.metrics import mean_absolute_error, mean_squared_error  # Model Evaluation\n",
    "from sklearn.linear_model import LinearRegression  # Linear Regression\n",
    "from sklearn.tree import DecisionTreeRegressor, plot_tree  # Decision Tree Regression\n",
    "from sklearn.ensemble import RandomForestRegressor  # Random Forest Regression"
   ]
  },
  {
   "cell_type": "markdown",
   "metadata": {},
   "source": [
    "## Load Cleaned Training Data and Take a Peek"
   ]
  },
  {
   "cell_type": "code",
   "execution_count": 10,
   "metadata": {},
   "outputs": [],
   "source": [
    "# Once your file is loaded you can view your dataset in a Pandas dataframe.\n",
    "df = pd.read_csv('data/train_cleaned_kc_house_data.csv')"
   ]
  },
  {
   "cell_type": "code",
   "execution_count": 11,
   "metadata": {},
   "outputs": [
    {
     "data": {
      "text/html": [
       "<div>\n",
       "<style scoped>\n",
       "    .dataframe tbody tr th:only-of-type {\n",
       "        vertical-align: middle;\n",
       "    }\n",
       "\n",
       "    .dataframe tbody tr th {\n",
       "        vertical-align: top;\n",
       "    }\n",
       "\n",
       "    .dataframe thead th {\n",
       "        text-align: right;\n",
       "    }\n",
       "</style>\n",
       "<table border=\"1\" class=\"dataframe\">\n",
       "  <thead>\n",
       "    <tr style=\"text-align: right;\">\n",
       "      <th></th>\n",
       "      <th>price</th>\n",
       "      <th>bedrooms</th>\n",
       "      <th>bathrooms</th>\n",
       "      <th>sqft_living</th>\n",
       "      <th>sqft_lot</th>\n",
       "      <th>floors</th>\n",
       "      <th>waterfront</th>\n",
       "      <th>view</th>\n",
       "      <th>condition</th>\n",
       "      <th>grade</th>\n",
       "      <th>sqft_above</th>\n",
       "      <th>sqft_basement</th>\n",
       "      <th>yr_built</th>\n",
       "      <th>yr_renovated</th>\n",
       "      <th>zipcode</th>\n",
       "      <th>lat</th>\n",
       "      <th>long</th>\n",
       "      <th>sqft_living15</th>\n",
       "      <th>sqft_lot15</th>\n",
       "    </tr>\n",
       "  </thead>\n",
       "  <tbody>\n",
       "    <tr>\n",
       "      <th>0</th>\n",
       "      <td>510000.0</td>\n",
       "      <td>4</td>\n",
       "      <td>3.0</td>\n",
       "      <td>3610</td>\n",
       "      <td>18948</td>\n",
       "      <td>2.0</td>\n",
       "      <td>0</td>\n",
       "      <td>0</td>\n",
       "      <td>3</td>\n",
       "      <td>10</td>\n",
       "      <td>3610</td>\n",
       "      <td>0</td>\n",
       "      <td>1993</td>\n",
       "      <td>0</td>\n",
       "      <td>98023</td>\n",
       "      <td>47.2911</td>\n",
       "      <td>-122.342</td>\n",
       "      <td>3568</td>\n",
       "      <td>18948</td>\n",
       "    </tr>\n",
       "    <tr>\n",
       "      <th>1</th>\n",
       "      <td>555000.0</td>\n",
       "      <td>3</td>\n",
       "      <td>2.0</td>\n",
       "      <td>2080</td>\n",
       "      <td>7020</td>\n",
       "      <td>1.0</td>\n",
       "      <td>0</td>\n",
       "      <td>0</td>\n",
       "      <td>4</td>\n",
       "      <td>7</td>\n",
       "      <td>1040</td>\n",
       "      <td>1040</td>\n",
       "      <td>1951</td>\n",
       "      <td>0</td>\n",
       "      <td>98115</td>\n",
       "      <td>47.6768</td>\n",
       "      <td>-122.285</td>\n",
       "      <td>1920</td>\n",
       "      <td>7000</td>\n",
       "    </tr>\n",
       "    <tr>\n",
       "      <th>2</th>\n",
       "      <td>469500.0</td>\n",
       "      <td>4</td>\n",
       "      <td>2.5</td>\n",
       "      <td>2090</td>\n",
       "      <td>7241</td>\n",
       "      <td>1.0</td>\n",
       "      <td>0</td>\n",
       "      <td>0</td>\n",
       "      <td>4</td>\n",
       "      <td>7</td>\n",
       "      <td>1140</td>\n",
       "      <td>950</td>\n",
       "      <td>2001</td>\n",
       "      <td>0</td>\n",
       "      <td>98034</td>\n",
       "      <td>47.7260</td>\n",
       "      <td>-122.221</td>\n",
       "      <td>1510</td>\n",
       "      <td>7402</td>\n",
       "    </tr>\n",
       "    <tr>\n",
       "      <th>3</th>\n",
       "      <td>530000.0</td>\n",
       "      <td>3</td>\n",
       "      <td>2.5</td>\n",
       "      <td>3150</td>\n",
       "      <td>21893</td>\n",
       "      <td>2.0</td>\n",
       "      <td>0</td>\n",
       "      <td>0</td>\n",
       "      <td>3</td>\n",
       "      <td>9</td>\n",
       "      <td>3150</td>\n",
       "      <td>0</td>\n",
       "      <td>2006</td>\n",
       "      <td>0</td>\n",
       "      <td>98014</td>\n",
       "      <td>47.6455</td>\n",
       "      <td>-121.901</td>\n",
       "      <td>2280</td>\n",
       "      <td>21886</td>\n",
       "    </tr>\n",
       "    <tr>\n",
       "      <th>4</th>\n",
       "      <td>525000.0</td>\n",
       "      <td>3</td>\n",
       "      <td>2.0</td>\n",
       "      <td>1540</td>\n",
       "      <td>7800</td>\n",
       "      <td>1.0</td>\n",
       "      <td>0</td>\n",
       "      <td>0</td>\n",
       "      <td>3</td>\n",
       "      <td>8</td>\n",
       "      <td>1540</td>\n",
       "      <td>0</td>\n",
       "      <td>2004</td>\n",
       "      <td>0</td>\n",
       "      <td>98125</td>\n",
       "      <td>47.7041</td>\n",
       "      <td>-122.288</td>\n",
       "      <td>1510</td>\n",
       "      <td>7800</td>\n",
       "    </tr>\n",
       "  </tbody>\n",
       "</table>\n",
       "</div>"
      ],
      "text/plain": [
       "      price  bedrooms  bathrooms  sqft_living  sqft_lot  floors  waterfront  \\\n",
       "0  510000.0         4        3.0         3610     18948     2.0           0   \n",
       "1  555000.0         3        2.0         2080      7020     1.0           0   \n",
       "2  469500.0         4        2.5         2090      7241     1.0           0   \n",
       "3  530000.0         3        2.5         3150     21893     2.0           0   \n",
       "4  525000.0         3        2.0         1540      7800     1.0           0   \n",
       "\n",
       "   view  condition  grade  sqft_above  sqft_basement  yr_built  yr_renovated  \\\n",
       "0     0          3     10        3610              0      1993             0   \n",
       "1     0          4      7        1040           1040      1951             0   \n",
       "2     0          4      7        1140            950      2001             0   \n",
       "3     0          3      9        3150              0      2006             0   \n",
       "4     0          3      8        1540              0      2004             0   \n",
       "\n",
       "   zipcode      lat     long  sqft_living15  sqft_lot15  \n",
       "0    98023  47.2911 -122.342           3568       18948  \n",
       "1    98115  47.6768 -122.285           1920        7000  \n",
       "2    98034  47.7260 -122.221           1510        7402  \n",
       "3    98014  47.6455 -121.901           2280       21886  \n",
       "4    98125  47.7041 -122.288           1510        7800  "
      ]
     },
     "execution_count": 11,
     "metadata": {},
     "output_type": "execute_result"
    }
   ],
   "source": [
    "df.head()"
   ]
  },
  {
   "cell_type": "markdown",
   "metadata": {},
   "source": [
    "### 1. Create a Vectice job for the modeling stage"
   ]
  },
  {
   "cell_type": "code",
   "execution_count": 14,
   "metadata": {},
   "outputs": [
    {
     "name": "stderr",
     "output_type": "stream",
     "text": [
      "INFO:Client:Successfully authenticated. You'll be working on Project: Predicting house prices in King County, Washington part of Workspace: .jnorman\n",
      "INFO:Project:Job with id: 10767 successfully created.\n"
     ]
    }
   ],
   "source": [
    "# We create our second experiment for modeling and specify the workspace and the project we will be working on\n",
    "# Each experiment only contains one job. Each invokation of the job is called a run.\n",
    "# autocode = True enables you to track your git changes for your code automatically every time you execute a run (see below).\n",
    "experiment = Experiment(job=\"Modeling - train\", project=project_id, job_type=JobType.TRAINING, auto_code=True)"
   ]
  },
  {
   "cell_type": "code",
   "execution_count": null,
   "metadata": {},
   "outputs": [],
   "source": [
    "#create a code checkpoint for this version of the notebook\n",
    "input_code = experiment.add_code_version_uri(git_uri=\"https://github.com/stbiadmin/vectice-examples\",\n",
    "                                             entrypoint=\"demo/demo_dataprep.ipynb\") "
   ]
  },
  {
   "cell_type": "markdown",
   "metadata": {},
   "source": [
    "## Let's benchmark first: Linear regression "
   ]
  },
  {
   "cell_type": "code",
   "execution_count": 15,
   "metadata": {},
   "outputs": [],
   "source": [
    "#set some run properties to help us make sense of what is happening\n",
    "technique = [\"Approach\", \"Linreg\"]\n",
    "citation = [\"wiki\",\"https://en.wikipedia.org/wiki/Linear_regression\"]"
   ]
  },
  {
   "cell_type": "code",
   "execution_count": 16,
   "metadata": {},
   "outputs": [
    {
     "ename": "NameError",
     "evalue": "name 'input_code' is not defined",
     "output_type": "error",
     "traceback": [
      "\u001b[0;31m---------------------------------------------------------------------------\u001b[0m",
      "\u001b[0;31mNameError\u001b[0m                                 Traceback (most recent call last)",
      "\u001b[0;32m<ipython-input-16-fd4da52527cd>\u001b[0m in \u001b[0;36m<module>\u001b[0;34m\u001b[0m\n\u001b[1;32m      1\u001b[0m \u001b[0;31m# we declare the dataset versions and code to use as inputs of our run\u001b[0m\u001b[0;34m\u001b[0m\u001b[0;34m\u001b[0m\u001b[0;34m\u001b[0m\u001b[0m\n\u001b[0;32m----> 2\u001b[0;31m experiment.start(inputs=[input_code, train_ds_version, test_ds_version],\n\u001b[0m\u001b[1;32m      3\u001b[0m                 run_properties={technique[0]: technique[1], citation[0]:citation[1]})\n\u001b[1;32m      4\u001b[0m \u001b[0;34m\u001b[0m\u001b[0m\n\u001b[1;32m      5\u001b[0m \u001b[0;31m# Linear regression model\u001b[0m\u001b[0;34m\u001b[0m\u001b[0;34m\u001b[0m\u001b[0;34m\u001b[0m\u001b[0m\n",
      "\u001b[0;31mNameError\u001b[0m: name 'input_code' is not defined"
     ]
    }
   ],
   "source": [
    "# we declare the dataset versions and code to use as inputs of our run\n",
    "experiment.start(inputs=[input_code, train_ds_version, test_ds_version],\n",
    "                run_properties={technique[0]: technique[1], citation[0]:citation[1]})\n",
    "\n",
    "# Linear regression model\n",
    "lr_rg = LinearRegression()\n",
    "lr_rg.fit(X_train, y_train)\n",
    "lr_pred = lr_rg.predict(X_test)\n",
    "\n",
    "# Evaluate Metrics\n",
    "MAE = round(mean_absolute_error(lr_pred, y_test),3)\n",
    "RMSE = round(sqrt(mean_squared_error(lr_pred, y_test)),3)\n",
    "\n",
    "print(\"Root Mean Squared Error: \", RMSE)\n",
    "print(\"Mean Absolute Error: \", MAE)\n",
    "\n",
    "# Let's log the model we trained along with its metrics, as a new version \n",
    "# of the \"Regressor\" model in Vectice.\n",
    "metrics = {\"RMSE\": RMSE, \"MAE\": MAE}\n",
    "model_version = experiment.add_model_version(model=\"Regressor\", algorithm=\"Linear Regression\", metrics=metrics)\n",
    "\n",
    "# We complete the current experiment's run \n",
    "## The created model version will be automatically attached as output of the run\n",
    "experiment.complete()"
   ]
  },
  {
   "cell_type": "code",
   "execution_count": null,
   "metadata": {},
   "outputs": [],
   "source": []
  }
 ],
 "metadata": {
  "instance_type": "ml.t3.medium",
  "kernelspec": {
   "display_name": "Python 3 (Data Science)",
   "language": "python",
   "name": "python3__SAGEMAKER_INTERNAL__arn:aws:sagemaker:us-east-1:081325390199:image/datascience-1.0"
  },
  "language_info": {
   "codemirror_mode": {
    "name": "ipython",
    "version": 3
   },
   "file_extension": ".py",
   "mimetype": "text/x-python",
   "name": "python",
   "nbconvert_exporter": "python",
   "pygments_lexer": "ipython3",
   "version": "3.7.10"
  }
 },
 "nbformat": 4,
 "nbformat_minor": 4
}
