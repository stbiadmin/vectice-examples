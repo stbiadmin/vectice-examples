{
 "cells": [
  {
   "cell_type": "code",
   "execution_count": 2,
   "metadata": {
    "id": "AElVyRoTsp6n"
   },
   "outputs": [
    {
     "name": "stdout",
     "output_type": "stream",
     "text": [
      "Requirement already satisfied: fsspec in /opt/conda/lib/python3.7/site-packages (2022.5.0)\n",
      "\u001b[33mWARNING: Running pip as the 'root' user can result in broken permissions and conflicting behaviour with the system package manager. It is recommended to use a virtual environment instead: https://pip.pypa.io/warnings/venv\u001b[0m\u001b[33m\n",
      "\u001b[0m\n",
      "\u001b[1m[\u001b[0m\u001b[34;49mnotice\u001b[0m\u001b[1;39;49m]\u001b[0m\u001b[39;49m A new release of pip available: \u001b[0m\u001b[31;49m22.1.2\u001b[0m\u001b[39;49m -> \u001b[0m\u001b[32;49m22.2.2\u001b[0m\n",
      "\u001b[1m[\u001b[0m\u001b[34;49mnotice\u001b[0m\u001b[1;39;49m]\u001b[0m\u001b[39;49m To update, run: \u001b[0m\u001b[32;49mpip install --upgrade pip\u001b[0m\n",
      "Collecting gcsfs\n",
      "  Downloading gcsfs-2022.7.1-py2.py3-none-any.whl (25 kB)\n",
      "Collecting google-auth>=1.2\n",
      "  Downloading google_auth-2.11.0-py2.py3-none-any.whl (167 kB)\n",
      "\u001b[2K     \u001b[90m━━━━━━━━━━━━━━━━━━━━━━━━━━━━━━━━━━━━━━━\u001b[0m \u001b[32m167.2/167.2 kB\u001b[0m \u001b[31m2.6 MB/s\u001b[0m eta \u001b[36m0:00:00\u001b[0m00:01\u001b[0m\n",
      "\u001b[?25hRequirement already satisfied: decorator>4.1.2 in /opt/conda/lib/python3.7/site-packages (from gcsfs) (4.4.1)\n",
      "Collecting fsspec==2022.7.1\n",
      "  Downloading fsspec-2022.7.1-py3-none-any.whl (141 kB)\n",
      "\u001b[2K     \u001b[90m━━━━━━━━━━━━━━━━━━━━━━━━━━━━━━━━━━━━━━━\u001b[0m \u001b[32m141.2/141.2 kB\u001b[0m \u001b[31m2.2 MB/s\u001b[0m eta \u001b[36m0:00:00\u001b[0ma \u001b[36m0:00:01\u001b[0m\n",
      "\u001b[?25hCollecting google-cloud-storage\n",
      "  Downloading google_cloud_storage-2.5.0-py2.py3-none-any.whl (106 kB)\n",
      "\u001b[2K     \u001b[90m━━━━━━━━━━━━━━━━━━━━━━━━━━━━━━━━━━━━━━━\u001b[0m \u001b[32m107.0/107.0 kB\u001b[0m \u001b[31m1.5 MB/s\u001b[0m eta \u001b[36m0:00:00\u001b[0ma \u001b[36m0:00:01\u001b[0m\n",
      "\u001b[?25hRequirement already satisfied: aiohttp in /opt/conda/lib/python3.7/site-packages (from gcsfs) (3.8.1)\n",
      "Requirement already satisfied: requests in /opt/conda/lib/python3.7/site-packages (from gcsfs) (2.28.1)\n",
      "Collecting google-auth-oauthlib\n",
      "  Downloading google_auth_oauthlib-0.5.2-py2.py3-none-any.whl (19 kB)\n",
      "Collecting pyasn1-modules>=0.2.1\n",
      "  Downloading pyasn1_modules-0.2.8-py2.py3-none-any.whl (155 kB)\n",
      "\u001b[2K     \u001b[90m━━━━━━━━━━━━━━━━━━━━━━━━━━━━━━━━━━━━━━━\u001b[0m \u001b[32m155.3/155.3 kB\u001b[0m \u001b[31m2.7 MB/s\u001b[0m eta \u001b[36m0:00:00\u001b[0m00:01\u001b[0m\n",
      "\u001b[?25hRequirement already satisfied: six>=1.9.0 in /opt/conda/lib/python3.7/site-packages (from google-auth>=1.2->gcsfs) (1.16.0)\n",
      "Collecting cachetools<6.0,>=2.0.0\n",
      "  Downloading cachetools-5.2.0-py3-none-any.whl (9.3 kB)\n",
      "Requirement already satisfied: rsa<5,>=3.1.4 in /opt/conda/lib/python3.7/site-packages (from google-auth>=1.2->gcsfs) (4.8)\n",
      "Requirement already satisfied: async-timeout<5.0,>=4.0.0a3 in /opt/conda/lib/python3.7/site-packages (from aiohttp->gcsfs) (4.0.2)\n",
      "Requirement already satisfied: multidict<7.0,>=4.5 in /opt/conda/lib/python3.7/site-packages (from aiohttp->gcsfs) (6.0.2)\n",
      "Requirement already satisfied: attrs>=17.3.0 in /opt/conda/lib/python3.7/site-packages (from aiohttp->gcsfs) (21.4.0)\n",
      "Requirement already satisfied: charset-normalizer<3.0,>=2.0 in /opt/conda/lib/python3.7/site-packages (from aiohttp->gcsfs) (2.0.4)\n",
      "Requirement already satisfied: frozenlist>=1.1.1 in /opt/conda/lib/python3.7/site-packages (from aiohttp->gcsfs) (1.3.0)\n",
      "Requirement already satisfied: aiosignal>=1.1.2 in /opt/conda/lib/python3.7/site-packages (from aiohttp->gcsfs) (1.2.0)\n",
      "Requirement already satisfied: asynctest==0.13.0 in /opt/conda/lib/python3.7/site-packages (from aiohttp->gcsfs) (0.13.0)\n",
      "Requirement already satisfied: yarl<2.0,>=1.0 in /opt/conda/lib/python3.7/site-packages (from aiohttp->gcsfs) (1.7.2)\n",
      "Requirement already satisfied: typing-extensions>=3.7.4 in /opt/conda/lib/python3.7/site-packages (from aiohttp->gcsfs) (4.3.0)\n",
      "Collecting requests-oauthlib>=0.7.0\n",
      "  Downloading requests_oauthlib-1.3.1-py2.py3-none-any.whl (23 kB)\n",
      "Collecting google-resumable-media>=2.3.2\n",
      "  Downloading google_resumable_media-2.3.3-py2.py3-none-any.whl (76 kB)\n",
      "\u001b[2K     \u001b[90m━━━━━━━━━━━━━━━━━━━━━━━━━━━━━━━━━━━━━━━━\u001b[0m \u001b[32m76.9/76.9 kB\u001b[0m \u001b[31m1.2 MB/s\u001b[0m eta \u001b[36m0:00:00\u001b[0mta \u001b[36m0:00:01\u001b[0m\n",
      "\u001b[?25hCollecting google-cloud-core<3.0dev,>=2.3.0\n",
      "  Downloading google_cloud_core-2.3.2-py2.py3-none-any.whl (29 kB)\n",
      "Collecting google-api-core!=2.0.*,!=2.1.*,!=2.2.*,!=2.3.0,<3.0.0dev,>=1.31.5\n",
      "  Downloading google_api_core-2.8.2-py3-none-any.whl (114 kB)\n",
      "\u001b[2K     \u001b[90m━━━━━━━━━━━━━━━━━━━━━━━━━━━━━━━━━━━━━━━\u001b[0m \u001b[32m114.6/114.6 kB\u001b[0m \u001b[31m1.8 MB/s\u001b[0m eta \u001b[36m0:00:00\u001b[0m00:01\u001b[0m\n",
      "\u001b[?25hRequirement already satisfied: urllib3<1.27,>=1.21.1 in /opt/conda/lib/python3.7/site-packages (from requests->gcsfs) (1.26.11)\n",
      "Requirement already satisfied: idna<4,>=2.5 in /opt/conda/lib/python3.7/site-packages (from requests->gcsfs) (2.8)\n",
      "Requirement already satisfied: certifi>=2017.4.17 in /opt/conda/lib/python3.7/site-packages (from requests->gcsfs) (2022.6.15)\n",
      "Requirement already satisfied: protobuf<5.0.0dev,>=3.15.0 in /opt/conda/lib/python3.7/site-packages (from google-api-core!=2.0.*,!=2.1.*,!=2.2.*,!=2.3.0,<3.0.0dev,>=1.31.5->google-cloud-storage->gcsfs) (3.20.1)\n",
      "Collecting googleapis-common-protos<2.0dev,>=1.56.2\n",
      "  Downloading googleapis_common_protos-1.56.4-py2.py3-none-any.whl (211 kB)\n",
      "\u001b[2K     \u001b[90m━━━━━━━━━━━━━━━━━━━━━━━━━━━━━━━━━━━━━━━\u001b[0m \u001b[32m211.7/211.7 kB\u001b[0m \u001b[31m2.3 MB/s\u001b[0m eta \u001b[36m0:00:00\u001b[0ma \u001b[36m0:00:01\u001b[0m\n",
      "\u001b[?25hCollecting google-crc32c<2.0dev,>=1.0\n",
      "  Downloading google_crc32c-1.3.0-cp37-cp37m-manylinux_2_12_x86_64.manylinux2010_x86_64.whl (38 kB)\n",
      "Requirement already satisfied: pyasn1<0.5.0,>=0.4.6 in /opt/conda/lib/python3.7/site-packages (from pyasn1-modules>=0.2.1->google-auth>=1.2->gcsfs) (0.4.8)\n",
      "Collecting oauthlib>=3.0.0\n",
      "  Downloading oauthlib-3.2.0-py3-none-any.whl (151 kB)\n",
      "\u001b[2K     \u001b[90m━━━━━━━━━━━━━━━━━━━━━━━━━━━━━━━━━━━━━━━\u001b[0m \u001b[32m151.5/151.5 kB\u001b[0m \u001b[31m2.5 MB/s\u001b[0m eta \u001b[36m0:00:00\u001b[0ma \u001b[36m0:00:01\u001b[0m\n",
      "\u001b[?25hInstalling collected packages: pyasn1-modules, oauthlib, googleapis-common-protos, google-crc32c, fsspec, cachetools, requests-oauthlib, google-resumable-media, google-auth, google-auth-oauthlib, google-api-core, google-cloud-core, google-cloud-storage, gcsfs\n",
      "  Attempting uninstall: fsspec\n",
      "    Found existing installation: fsspec 2022.5.0\n",
      "    Uninstalling fsspec-2022.5.0:\n",
      "      Successfully uninstalled fsspec-2022.5.0\n",
      "\u001b[31mERROR: pip's dependency resolver does not currently take into account all the packages that are installed. This behaviour is the source of the following dependency conflicts.\n",
      "s3fs 2022.5.0 requires fsspec==2022.5.0, but you have fsspec 2022.7.1 which is incompatible.\u001b[0m\u001b[31m\n",
      "\u001b[0mSuccessfully installed cachetools-5.2.0 fsspec-2022.7.1 gcsfs-2022.7.1 google-api-core-2.8.2 google-auth-2.11.0 google-auth-oauthlib-0.5.2 google-cloud-core-2.3.2 google-cloud-storage-2.5.0 google-crc32c-1.3.0 google-resumable-media-2.3.3 googleapis-common-protos-1.56.4 oauthlib-3.2.0 pyasn1-modules-0.2.8 requests-oauthlib-1.3.1\n",
      "\u001b[33mWARNING: Running pip as the 'root' user can result in broken permissions and conflicting behaviour with the system package manager. It is recommended to use a virtual environment instead: https://pip.pypa.io/warnings/venv\u001b[0m\u001b[33m\n",
      "\u001b[0m\n",
      "\u001b[1m[\u001b[0m\u001b[34;49mnotice\u001b[0m\u001b[1;39;49m]\u001b[0m\u001b[39;49m A new release of pip available: \u001b[0m\u001b[31;49m22.1.2\u001b[0m\u001b[39;49m -> \u001b[0m\u001b[32;49m22.2.2\u001b[0m\n",
      "\u001b[1m[\u001b[0m\u001b[34;49mnotice\u001b[0m\u001b[1;39;49m]\u001b[0m\u001b[39;49m To update, run: \u001b[0m\u001b[32;49mpip install --upgrade pip\u001b[0m\n",
      "\u001b[33mWARNING: Running pip as the 'root' user can result in broken permissions and conflicting behaviour with the system package manager. It is recommended to use a virtual environment instead: https://pip.pypa.io/warnings/venv\u001b[0m\u001b[33m\n",
      "\u001b[0m"
     ]
    }
   ],
   "source": [
    "## Requirements\n",
    "!pip3 install fsspec\n",
    "!pip3 install gcsfs\n",
    "!pip install --q vectice[github]==22.3.5.1"
   ]
  },
  {
   "cell_type": "code",
   "execution_count": 3,
   "metadata": {
    "id": "kNp-v5wZ62sw"
   },
   "outputs": [
    {
     "name": "stdout",
     "output_type": "stream",
     "text": [
      "Name: vectice\n",
      "Version: 22.3.5.1\n",
      "Summary: Vectice Python library\n",
      "Home-page: https://www.vectice.com\n",
      "Author: Vectice Inc.\n",
      "Author-email: sdk@vectice.com\n",
      "License: Apache License 2.0\n",
      "Location: /opt/conda/lib/python3.7/site-packages\n",
      "Requires: python-dotenv, requests, urllib3\n",
      "Required-by: \n"
     ]
    }
   ],
   "source": [
    "!pip3 show vectice"
   ]
  },
  {
   "cell_type": "markdown",
   "metadata": {
    "id": "w789XA-Y-UpJ"
   },
   "source": [
    "# Data Retrieval\n",
    "\n",
    "The original was downloaded from the `House Sales in King County, USA`: https://www.kaggle.com/harlfoxem/housesalesprediction\n",
    "\n",
    "Let's imagine in this demo that we are going to access the data from a Google Cloud Storage bucket, where our finance expert has uploaded all the relevant files and published it into Vectice data catalog.\n",
    "\n",
    "Description of features below. Vectice UI has also the list of features in the Data Catalog.\n",
    "\n",
    "![image.png](data:image/png;base64,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)"
   ]
  },
  {
   "cell_type": "markdown",
   "metadata": {
    "id": "8wlbAkLj-s6G"
   },
   "source": [
    "### Retrieve the data from GCS"
   ]
  },
  {
   "cell_type": "code",
   "execution_count": null,
   "metadata": {
    "id": "HeaGu1netx21"
   },
   "outputs": [],
   "source": [
    "# Load your json key file to access GCS that was provided with your tutorial account. \n",
    "# The name should be something like gridmauk-10b1aaafb63f.json.\n",
    "from google.colab import files\n",
    "uploaded = files.upload()"
   ]
  },
  {
   "cell_type": "code",
   "execution_count": null,
   "metadata": {
    "id": "QkCo1wh9t1qQ"
   },
   "outputs": [],
   "source": [
    "# Once your file is loaded set the credentials for GCS and load the file\n",
    "# in a pandas frame, double check the json file name you uploaded below.\n",
    "import os\n",
    "import numpy as np\n",
    "import pandas as pd\n",
    "from matplotlib import pyplot as plt\n",
    "import seaborn as sns\n",
    "%matplotlib inline\n",
    "\n",
    "os.environ['GOOGLE_APPLICATION_CREDENTIALS'] = 'gcsTutorialTest.json'\n",
    "\n",
    "# The original source dataset is already declared in the Vectice UI as \"kc_house_data\",\n",
    "# and its connection to \"gs://vectice_data_examples/reference_data/\" has been established.\n",
    "df = pd.read_csv('gs://vectice_tutorial/kc_house_data.csv')\n",
    "\n",
    "# Run head to make sure the data was loaded properly\n",
    "df.head()\n"
   ]
  },
  {
   "cell_type": "code",
   "execution_count": null,
   "metadata": {
    "id": "y2yumuVC6naI"
   },
   "outputs": [],
   "source": [
    "# In order to use Vectice SDK, let's set up the configurations first.\n",
    "# The Vectice API key below can be generated from the UI.\n",
    "# For better security, we strongly recommend for the settings to be put into a dedicated file and not to be added directly.\n",
    "os.environ['VECTICE_API_ENDPOINT']= \"be-dev.vectice.com\"\n",
    "#os.environ['VECTICE_API_TOKEN'] = \"APITOKEN_APITOKEN\"\n",
    "os.environ['VECTICE_API_TOKEN'] = \"wz1pa0y0Z.2xQ7rgbPO3Gdm4qLNRkWwz1pa0y0ZoX6V5BK82aM9DjnlJEYem\"\n",
    "\n",
    "from vectice import Vectice\n",
    "\n",
    "#vectice = Vectice(project_token=\"PROJECTTOKEN_PROJECTTOKEN\")\n",
    "vectice = Vectice(project_token=\"nwlOqv91Hgn9JaGve863\")\n"
   ]
  },
  {
   "cell_type": "code",
   "execution_count": null,
   "metadata": {
    "id": "_2E20jnht6iQ"
   },
   "outputs": [],
   "source": [
    "# Here, we create a new version of the source dataset. This is only needed if the data has changed.\n",
    "# Warning: The dataset may already exist in the UI (simple), or you may create it here through the SDK (more complex since you need its \"digest\").\n",
    "# For this example, this dataset will be created on the UI.\n",
    "ds_version = vectice.create_dataset_version().with_parent_name(\"kc_house_data\")\n",
    "\n",
    "# Start a run to track this data cleaning job\n",
    "# It will specify the dataset version we just created as the run's input.\n",
    "# We are also supporting more convenient auto-versioning.\n",
    "vectice.create_run(\"jobCleanHousingData\")\n",
    "vectice.start_run(inputs=[ds_version])\n"
   ]
  },
  {
   "cell_type": "code",
   "execution_count": null,
   "metadata": {
    "id": "YUwnbhA6k5WK"
   },
   "outputs": [],
   "source": [
    "# Here, we show you for reference how to create a dataset with a dataset version including a declared csv as resource \n",
    "ds_raw = vectice._client.create_dataset({\"name\": \"kc_house_data_sdk\", \"connectionId\": 478, \"dataResources\": [\n",
    "  {\n",
    "    \"name\": \"kc_house_data.csv\",\n",
    "    \"description\": \"\",\n",
    "    \"path\": {\n",
    "      \"id\": \"kc_house_data.csv\",\n",
    "      \"isFolder\": False,\n",
    "      \"path\": \"vectice_tutorial/kc_house_data.csv\",\n",
    "      \"parentId\": \"vectice_tutorial\",\n",
    "      \"type\": \"File\",\n",
    "      \"uniqueId\": \"vectice_tutorial/kc_house_data.csv/1624626508521594\",\n",
    "      \"uri\": \"gs://vectice_tutorial/kc_house_data.csv\"\n",
    "    },\n",
    "    \"schema\": {\n",
    "      \"type\": \"File\",\n",
    "      \"name\": \"kc_house_data.csv\",\n",
    "      \"description\": None,\n",
    "      \"fileFormat\": \"text/csv\",\n",
    "      \"collate\": None\n",
    "    }\n",
    "  }\n",
    "]})"
   ]
  },
  {
   "cell_type": "markdown",
   "metadata": {
    "id": "Oz2wXhCMGSUG"
   },
   "source": [
    "### Simple verification of the data\n",
    "\n",
    "The data set should contain 21613 rows and 21 columns"
   ]
  },
  {
   "cell_type": "code",
   "execution_count": null,
   "metadata": {
    "id": "Ohks3p0l4Gxo"
   },
   "outputs": [],
   "source": [
    "# How many rows do we have in this dataset?\n",
    "print(\"Number of rows:\", len(df))\n",
    "print(\"\\n\")\n",
    "\n",
    "# Inspecting type\n",
    "print(df.dtypes)\n",
    "print(\"\\n\")\n",
    "\n",
    "# Check to see if there are any null values\n",
    "print(\"Are there any null values?\")\n",
    "print(\"\\n\")\n",
    "print(df.isnull().any())\n"
   ]
  },
  {
   "cell_type": "markdown",
   "metadata": {
    "id": "fVDwxgoHGaOn"
   },
   "source": [
    "We have 21613 rows in the dataset. We can drop 'id' and 'date' column since they are features that are not of that much use to us. There are no null values.\n"
   ]
  },
  {
   "cell_type": "markdown",
   "metadata": {
    "id": "O5_1yh8rGfF8"
   },
   "source": [
    "## Exploratory Data Analysis"
   ]
  },
  {
   "cell_type": "code",
   "execution_count": null,
   "metadata": {
    "id": "YuIK5pM64Li_"
   },
   "outputs": [],
   "source": [
    "# Dropping the id and date columns, as well as the useless first column\n",
    "df = df.drop(['Unnamed: 0','id', 'date'], axis=1)\n",
    "\n",
    "# The view column may not be relevant for the business also. We will have to ask more questions."
   ]
  },
  {
   "cell_type": "code",
   "execution_count": null,
   "metadata": {
    "id": "bdslNGeI4Nhx"
   },
   "outputs": [],
   "source": [
    "# Most of the data in the dataset is below $2,000,000 so we should drop this data as we can't predict accurately\n",
    "print(\"Number of houses over $2M:\", len(df[df['price'] > 2000000]))\n",
    "\n",
    "# Let's retrict the data to below $2M and create a copy\n",
    "df_2k = df[df['price'] <= 2000000]\n",
    "df_2k = df_2k.copy()\n",
    "\n",
    "print(\"Dataset shape after removing those houses over $2M:\")\n",
    "df_2k.shape\n"
   ]
  },
  {
   "cell_type": "code",
   "execution_count": null,
   "metadata": {
    "id": "jwZTzbM_4PrU"
   },
   "outputs": [],
   "source": [
    "plt.hist(df_2k['price'], edgecolor='black', linewidth=1.2)\n",
    "plt.title(\"Price Distribution for housing below $2,000,000\")\n",
    "plt.xlabel(\"Price\")\n",
    "plt.ylabel(\"Number of houses\")\n",
    "\n",
    "plt.show()\n",
    "\n",
    "# We will also support adding attachments, for example the diagram below, as part of the dataset version input for this one in the future."
   ]
  },
  {
   "cell_type": "code",
   "execution_count": null,
   "metadata": {
    "id": "xSamX7f74R6J"
   },
   "outputs": [],
   "source": [
    "sns.set(rc={'figure.figsize': (15, 15)})\n",
    "fig=plt.figure()\n",
    "\n",
    "ax1=fig.add_subplot(4, 3, 1)\n",
    "sns.boxplot(y=df_2k['price'], ax=ax1, width=0.3, color='turquoise')\n",
    "ax1.set_title('Price of the houses')\n",
    "\n",
    "ax2=fig.add_subplot(4, 3, 2)\n",
    "sns.boxplot(y=df_2k['bedrooms'], ax=ax2, width=0.3, color='royalblue')\n",
    "ax2.set_title('Number of bedrooms')\n",
    "\n",
    "ax3=fig.add_subplot(4, 3, 3)\n",
    "sns.boxplot(y=df_2k['bathrooms'], ax=ax3, width=0.3, color='cyan')\n",
    "ax3.set_title('Number of bathrooms')\n",
    "\n",
    "ax4=fig.add_subplot(4, 3, 4)\n",
    "sns.boxplot(y=df_2k['floors'], ax=ax4, width=0.3, color='gold')\n",
    "ax4.set_title('Number of floors')\n",
    "\n",
    "ax5=fig.add_subplot(4, 3, 5)\n",
    "sns.boxplot(y=df_2k['view'], ax=ax5, width=0.3, color='plum')\n",
    "ax5.set_title('Number of times viewed')\n",
    "\n",
    "ax6=fig.add_subplot(4, 3, 6)\n",
    "sns.boxplot(y=df_2k['sqft_above'], ax=ax6, width=0.3, color='red')\n",
    "ax6.set_title('Square footage of house apart from basement')\n",
    "\n",
    "ax7=fig.add_subplot(4, 3, 7)\n",
    "sns.boxplot(y=df_2k['sqft_basement'], ax=ax7, width=0.3, color='indigo')\n",
    "ax7.set_title('Square footage of basement')\n",
    "\n",
    "ax8=fig.add_subplot(4, 3, 8)\n",
    "sns.boxplot(y=df_2k['sqft_living15'], ax=ax8, width=0.3, color='salmon')\n",
    "ax8.set_title('Living room area')\n",
    "\n",
    "ax9=fig.add_subplot(4, 3, 9)\n",
    "sns.boxplot(y=df_2k['sqft_lot15'], ax=ax9, width=0.3, color='silver')\n",
    "ax9.set_title('Lot size area')\n",
    "\n",
    "plt.tight_layout(pad=0.05)\n",
    "plt.show()\n"
   ]
  },
  {
   "cell_type": "code",
   "execution_count": null,
   "metadata": {
    "id": "d14eLoiq4Usj"
   },
   "outputs": [],
   "source": [
    "# Number of bedrooms is changed from 33 to 3\n",
    "df_2k.loc[df_2k['bedrooms'] == 33, 'bedrooms'] = 3\n",
    "df_2k\n"
   ]
  },
  {
   "cell_type": "code",
   "execution_count": null,
   "metadata": {
    "id": "hSRBHfuy4Wt2"
   },
   "outputs": [],
   "source": [
    "sns.set(rc={'figure.figsize': (15, 15)})\n",
    "fig=plt.figure()\n",
    "\n",
    "ax2=fig.add_subplot(4, 3, 2)\n",
    "sns.boxplot(y=df_2k['bedrooms'], ax=ax2, width=0.3, color='royalblue')\n",
    "ax2.set_title('Number of bedrooms')\n",
    "\n",
    "plt.show()\n"
   ]
  },
  {
   "cell_type": "code",
   "execution_count": null,
   "metadata": {
    "id": "AOWz1oyd4ZIJ"
   },
   "outputs": [],
   "source": [
    "# Removing rows with zero bedrooms or bathrooms\n",
    "indices = df_2k.loc[(df_2k['bedrooms']==0) | (df_2k['bathrooms']==0), ['bedrooms', 'bathrooms', 'floors', 'price']].index\n",
    "df_2k.drop(labels=indices, axis=0, inplace=True)"
   ]
  },
  {
   "cell_type": "code",
   "execution_count": null,
   "metadata": {
    "id": "v77DZX-V4bkx"
   },
   "outputs": [],
   "source": [
    "fig1=plt.figure()\n",
    "fig1.tight_layout(pad=0.05)\n",
    "\n",
    "sns.set(rc={'figure.figsize': (15, 33)})\n",
    "\n",
    "ax01=fig1.add_subplot(5, 2, 1)\n",
    "sns.regplot(x='bedrooms', y='price', data=df, fit_reg=False, ax=ax01, color='turquoise')\n",
    "ax01.set_title('Number of bedrooms vs Price')\n",
    "\n",
    "ax11=fig1.add_subplot(5, 2, 2)\n",
    "sns.regplot(x='bathrooms', y='price', data=df, fit_reg=False, ax=ax11, color='royalblue')\n",
    "ax11.set_title('Number of bathrooms vs Price')\n",
    "\n",
    "ax21=fig1.add_subplot(5, 2, 3)\n",
    "sns.regplot(x='floors', y='price', data=df, fit_reg=False, ax=ax21, color='rebeccapurple')\n",
    "ax21.set_xticks([1, 2, 3])\n",
    "ax21.set_title('Number of floors vs Price')\n",
    "\n",
    "ax31=fig1.add_subplot(5, 2, 4)\n",
    "sns.regplot(x='view', y='price', data=df, fit_reg=False, ax=ax31, color='orangered')\n",
    "ax31.set_xticks([0, 1, 2, 3, 4])\n",
    "ax31.set_title('Number of times viewed vs Price')\n",
    "\n",
    "ax41=fig1.add_subplot(5, 2, 5)\n",
    "sns.regplot(x='sqft_above', y='price', data=df, fit_reg=False, ax=ax41, color='plum')\n",
    "ax41.set_title('Square footage of house apart from basement vs Price')\n",
    "\n",
    "ax51=fig1.add_subplot(5, 2, 6)\n",
    "sns.regplot(x='sqft_basement', y='price', data=df, fit_reg=False, ax=ax51, color='darkorange')\n",
    "ax51.set_title('Square footage of basement vs Price')\n",
    "\n",
    "ax61=fig1.add_subplot(5, 2, 7)\n",
    "sns.regplot(x='sqft_living15', y='price', data=df, fit_reg=False, ax=ax61, color='indigo')\n",
    "ax61.set_title('Living room area vs Price')\n",
    "\n",
    "ax71=fig1.add_subplot(5, 2, 8)\n",
    "sns.regplot(x='sqft_lot15', y='price', data=df, fit_reg=False, ax=ax71, color='salmon')\n",
    "ax71.set_title('Lot size area vs Price')\n",
    "\n",
    "plt.tight_layout(pad=0.05)\n",
    "plt.show()\n"
   ]
  },
  {
   "cell_type": "code",
   "execution_count": null,
   "metadata": {
    "id": "boPHGBhF4ehe"
   },
   "outputs": [],
   "source": [
    "plt.figure(figsize=(12, 8))\n",
    "plt.subplots_adjust(hspace=0.4, top=0.8)\n",
    "\n",
    "ax2 = plt.subplot(221)\n",
    "ax2 = sns.countplot(x=\"grade\", data=df_2k, ax=ax2)\n",
    "\n",
    "ax2.set_xticklabels(ax2.get_xticklabels(), rotation=90)\n",
    "ax2.set_title(\"Grade distribution price\", fontsize=15)\n",
    "ax2.set_xlabel(\"Grade number\")\n",
    "ax2.set_ylabel(\"log Price(US)\")\n",
    "\n",
    "ax0 = plt.subplot(212)\n",
    "ax0 = sns.regplot(x=\"grade\", y=\"price\", data=df_2k, x_jitter=True)\n",
    "\n",
    "ax0.set_title(\"Better understaning price by grade\", fontsize=15)\n",
    "ax0.set_xlabel(\"Grade\")\n",
    "ax0.set_ylabel(\"log Price(US)\")\n",
    "ax0.set_xticklabels(ax0.get_xticklabels(), rotation=90)\n",
    "\n",
    "plt.show()\n"
   ]
  },
  {
   "cell_type": "code",
   "execution_count": null,
   "metadata": {
    "id": "1bscqsd_4gxM"
   },
   "outputs": [],
   "source": [
    "# Store the cleaned data in a different CSV\n",
    "df_updated = df_2k.copy()\n",
    "df_updated.to_csv(r'gs://vectice_tutorial/kc_house_data_cleaned.csv', index=False, header=True)\n",
    "df_updated\n"
   ]
  },
  {
   "cell_type": "code",
   "execution_count": null,
   "metadata": {
    "id": "_CqlePsJ4i6H"
   },
   "outputs": [],
   "source": [
    "# Create a new version of the cleaned_kc_house_data dataset if needed\n",
    "# Here, we declare this part after the writing by Pandas intentionally to show you the autoversion, since the file has changed\n",
    "output_ds_version = vectice.create_dataset_version().with_parent_name(\"cleaned_kc_house_data\")\n",
    "\n",
    "# End the run and save the new dataset version.\n",
    "# Set the cleaned_kc_house_data as an output.\n",
    "vectice.end_run(outputs=[output_ds_version])\n"
   ]
  },
  {
   "cell_type": "markdown",
   "metadata": {
    "id": "VNaV0xtcGz06"
   },
   "source": [
    "## Conclusion\n",
    "\n",
    "This completes the EDA section of the tutorial. Vectice makes it easy to keep track of the data that was used in the EDA and document the finding in the corresponding Vectice project.\n",
    "\n",
    "Upon completion in order to track your notebook, you have 3 options: \n",
    "\n",
    "1.   You can upload the  notebook directly in the Vectice storage\n",
    "2.   You can add it to the GCS bucket and include it in the dataset so it can be reused for other type of projects in the future\n",
    "3.   You can sync up your notebook with Github and we will grab it from there (coming soon)\n",
    "\n",
    "Let us know what is your favorite option or if you would like to see other mechanisms to sync up notebooks and analysis for the EDA phase.\n"
   ]
  }
 ],
 "metadata": {
  "colab": {
   "collapsed_sections": [],
   "name": "Tutorial_EDA_New_Syntax_20210625.ipynb",
   "provenance": []
  },
  "kernelspec": {
   "display_name": "Python 3 (Data Science)",
   "language": "python",
   "name": "python3__SAGEMAKER_INTERNAL__arn:aws:sagemaker:us-east-1:081325390199:image/datascience-1.0"
  },
  "language_info": {
   "codemirror_mode": {
    "name": "ipython",
    "version": 3
   },
   "file_extension": ".py",
   "mimetype": "text/x-python",
   "name": "python",
   "nbconvert_exporter": "python",
   "pygments_lexer": "ipython3",
   "version": "3.7.10"
  }
 },
 "nbformat": 4,
 "nbformat_minor": 4
}
