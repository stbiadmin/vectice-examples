{
 "cells": [
  {
   "cell_type": "markdown",
   "metadata": {},
   "source": [
    "#### The purpose of this notebook is to demonstrate a notional ML application, indended for deployment via and MLOps pipeline"
   ]
  },
  {
   "cell_type": "code",
   "execution_count": 51,
   "metadata": {},
   "outputs": [],
   "source": [
    "import pandas as pd\n",
    "import numpy as np\n",
    "import sklearn\n",
    "import random as rand\n",
    "from sklearn.ensemble import GradientBoostingRegressor, RandomForestRegressor\n",
    "from sklearn.model_selection import train_test_split\n",
    "from pandas.io.json import json_normalize\n",
    "from IPython.display import clear_output\n",
    "import ipywidgets as widgets\n",
    "import pickle"
   ]
  },
  {
   "cell_type": "markdown",
   "metadata": {},
   "source": [
    "## Vectice Version"
   ]
  },
  {
   "cell_type": "markdown",
   "metadata": {},
   "source": [
    "#### 1. Load all of the data and model resources from previous steps"
   ]
  },
  {
   "cell_type": "code",
   "execution_count": 142,
   "metadata": {},
   "outputs": [],
   "source": [
    "#list of features to be included in the inference step\n",
    "col_imp_vect = list(X_valid)"
   ]
  },
  {
   "cell_type": "code",
   "execution_count": 141,
   "metadata": {},
   "outputs": [],
   "source": [
    "with open('data/serial/X_valid.pkl', 'rb') as file:\n",
    "    # Call load method to deserialze\n",
    "    X_valid = pickle.load(file)\n",
    "\n",
    "with open('data/serial/y_valid.pkl', 'rb') as file:\n",
    "    # Call load method to deserialze\n",
    "    y_valid = pickle.load(file)"
   ]
  },
  {
   "cell_type": "code",
   "execution_count": 143,
   "metadata": {},
   "outputs": [],
   "source": [
    "#load the pre-trained model\n",
    "with open('models/serial/rf_regressor_ver_18', 'rb') as file:\n",
    "    # Call load method to deserialze\n",
    "    rf_regressor = pickle.load(file)"
   ]
  },
  {
   "cell_type": "markdown",
   "metadata": {},
   "source": [
    "#### 2. Define the Prediction function to be used in the UI"
   ]
  },
  {
   "cell_type": "code",
   "execution_count": 144,
   "metadata": {},
   "outputs": [],
   "source": [
    "def predict(dict_values, col_imp=col_imp, clf=clf):\n",
    "    x = np.array([float(dict_values[col]) for col in col_imp_vect])\n",
    "    x = x.reshape(1,-1)\n",
    "    y_pred = rf_regressor.predict(x)[0]\n",
    "    y_pred_string = \"$\"+ str(round(y_pred,2))\n",
    "    return y_pred_string"
   ]
  },
  {
   "cell_type": "markdown",
   "metadata": {},
   "source": [
    "#### 3. Build the Inference UI"
   ]
  },
  {
   "cell_type": "code",
   "execution_count": 147,
   "metadata": {},
   "outputs": [],
   "source": [
    "#define UI\n",
    "score_btn = widgets.Button(description='Predict Price', \n",
    "                           button_style='primary',\n",
    "                           layout = widgets.Layout(width='auto', height='40px'))\n",
    "btn_select_random = widgets.Button(description = 'Select Random House', \n",
    "                                   layout = widgets.Layout(width='auto', height='auto'))\n",
    "out_select = widgets.Output(layout={'border': '1px solid black'})\n",
    "out_score = widgets.Output(layout={'border': '1px solid black'})\n",
    "\n",
    "\n",
    "widgets.Layout(width = 'auto')\n",
    "\n",
    "def btn_select_random_eventhandler(obj):\n",
    "    with out_select:\n",
    "        global x_test_json\n",
    "        x_test_json = X_valid[col_imp_vect].iloc[rand.randint(1,2100)].T.replace('},{', '} {')\n",
    "        clear_output()\n",
    "        print(x_test_json)\n",
    "    with out_score:\n",
    "        clear_output()\n",
    "          \n",
    "        \n",
    "        \n",
    "def btn_score_eventhandler(obj):\n",
    "    with out_score:\n",
    "        clear_output()\n",
    "        print(\"Predicted Price: $\",predict(x_test_json) )"
   ]
  },
  {
   "cell_type": "markdown",
   "metadata": {},
   "source": [
    "#### 4. Display the UI and Test"
   ]
  },
  {
   "cell_type": "code",
   "execution_count": 148,
   "metadata": {},
   "outputs": [
    {
     "data": {
      "application/vnd.jupyter.widget-view+json": {
       "model_id": "1b1eb343aa0049b2b2fc0b45a735eb86",
       "version_major": 2,
       "version_minor": 0
      },
      "text/plain": [
       "VBox(children=(Button(description='Select Random House', layout=Layout(height='auto', width='auto'), style=But…"
      ]
     },
     "metadata": {},
     "output_type": "display_data"
    }
   ],
   "source": [
    "display(widgets.VBox([btn_select_random,out_select,score_btn,out_score]))\n",
    "\n",
    "btn_select_random.on_click(btn_select_random_eventhandler)\n",
    "score_btn.on_click(btn_score_eventhandler)"
   ]
  },
  {
   "cell_type": "markdown",
   "metadata": {},
   "source": [
    "## Original Version"
   ]
  },
  {
   "cell_type": "code",
   "execution_count": 87,
   "metadata": {},
   "outputs": [],
   "source": [
    "data = pd.read_csv(\"data/kc_house_data.csv\")"
   ]
  },
  {
   "cell_type": "code",
   "execution_count": 89,
   "metadata": {},
   "outputs": [],
   "source": [
    "x_train, x_test, y_train, y_test = train_test_split(train1, labels, test_size=0.10, random_state=2)\n"
   ]
  },
  {
   "cell_type": "code",
   "execution_count": 93,
   "metadata": {},
   "outputs": [],
   "source": [
    "labels = data['price']\n",
    "conv_dates = [1 if values == 2014 else 0 for values in data.date ]\n",
    "data['date'] = conv_dates\n",
    "train1 = data.drop(['id', 'price'],axis=1)"
   ]
  },
  {
   "cell_type": "code",
   "execution_count": 90,
   "metadata": {},
   "outputs": [],
   "source": [
    "col_imp = [\"grade\", \"lat\", \"long\", \"sqft_living\", \"waterfront\", \"yr_built\"]"
   ]
  },
  {
   "cell_type": "code",
   "execution_count": 91,
   "metadata": {},
   "outputs": [],
   "source": [
    "clf = GradientBoostingRegressor(n_estimators=400, max_depth=5, min_samples_split=2,\n",
    "          learning_rate=0.1, loss='squared_error')"
   ]
  },
  {
   "cell_type": "code",
   "execution_count": 100,
   "metadata": {},
   "outputs": [
    {
     "data": {
      "text/plain": [
       "GradientBoostingRegressor(max_depth=5, n_estimators=400)"
      ]
     },
     "execution_count": 100,
     "metadata": {},
     "output_type": "execute_result"
    }
   ],
   "source": [
    "clf.fit(x_train[col_imp], y_train)"
   ]
  },
  {
   "cell_type": "code",
   "execution_count": 101,
   "metadata": {},
   "outputs": [],
   "source": [
    "def predict(dict_values, col_imp=col_imp, clf=clf):\n",
    "    x = np.array([float(dict_values[col]) for col in col_imp])\n",
    "    x = x.reshape(1,-1)\n",
    "    y_pred = clf.predict(x)[0]\n",
    "    y_pred_string = \"$\"+ str(round(y_pred,2))\n",
    "    return y_pred_string"
   ]
  },
  {
   "cell_type": "code",
   "execution_count": 102,
   "metadata": {},
   "outputs": [],
   "source": [
    "#define UI\n",
    "score_btn = widgets.Button(description='Predict Price', \n",
    "                           button_style='primary',\n",
    "                           layout = widgets.Layout(width='auto', height='40px'))\n",
    "btn_select_random = widgets.Button(description = 'Select Random House', \n",
    "                                   layout = widgets.Layout(width='auto', height='auto'))\n",
    "out_select = widgets.Output(layout={'border': '1px solid black'})\n",
    "out_score = widgets.Output(layout={'border': '1px solid black'})\n",
    "\n",
    "\n",
    "widgets.Layout(width = 'auto')\n",
    "\n",
    "def btn_select_random_eventhandler(obj):\n",
    "    with out_select:\n",
    "        global x_test_json\n",
    "        x_test_json = x_test[col_imp].iloc[rand.randint(1,2100)].T.replace('},{', '} {')\n",
    "        clear_output()\n",
    "        print(x_test_json)\n",
    "    with out_score:\n",
    "        clear_output()\n",
    "          \n",
    "        \n",
    "        \n",
    "def btn_score_eventhandler(obj):\n",
    "    with out_score:\n",
    "        clear_output()\n",
    "        print(\"Predicted Price: $\",predict(x_test_json) )"
   ]
  },
  {
   "cell_type": "markdown",
   "metadata": {},
   "source": [
    "### Render notebook as web app using Viola"
   ]
  },
  {
   "cell_type": "code",
   "execution_count": 103,
   "metadata": {},
   "outputs": [
    {
     "data": {
      "application/vnd.jupyter.widget-view+json": {
       "model_id": "864adc4cdcc947e0be210fba0325a7ba",
       "version_major": 2,
       "version_minor": 0
      },
      "text/plain": [
       "VBox(children=(Button(description='Select Random House', layout=Layout(height='auto', width='auto'), style=But…"
      ]
     },
     "metadata": {},
     "output_type": "display_data"
    }
   ],
   "source": [
    "display(widgets.VBox([btn_select_random,out_select,score_btn,out_score]))\n",
    "\n",
    "btn_select_random.on_click(btn_select_random_eventhandler)\n",
    "score_btn.on_click(btn_score_eventhandler)"
   ]
  },
  {
   "cell_type": "code",
   "execution_count": null,
   "metadata": {},
   "outputs": [],
   "source": []
  }
 ],
 "metadata": {
  "instance_type": "ml.t3.medium",
  "kernelspec": {
   "display_name": "Python 3 (Data Science)",
   "language": "python",
   "name": "python3__SAGEMAKER_INTERNAL__arn:aws:sagemaker:us-east-1:081325390199:image/datascience-1.0"
  },
  "language_info": {
   "codemirror_mode": {
    "name": "ipython",
    "version": 3
   },
   "file_extension": ".py",
   "mimetype": "text/x-python",
   "name": "python",
   "nbconvert_exporter": "python",
   "pygments_lexer": "ipython3",
   "version": "3.7.10"
  }
 },
 "nbformat": 4,
 "nbformat_minor": 4
}
