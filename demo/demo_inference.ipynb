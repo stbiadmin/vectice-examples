{
 "cells": [
  {
   "cell_type": "markdown",
   "metadata": {},
   "source": [
    "#### The purpose of this notebook is to demonstrate a notional ML application, indended for deployment via and MLOps pipeline"
   ]
  },
  {
   "cell_type": "code",
   "execution_count": 2,
   "metadata": {},
   "outputs": [],
   "source": [
    "import pandas as pd\n",
    "import numpy as np\n",
    "import sklearn\n",
    "import random as rand\n",
    "from sklearn.ensemble import GradientBoostingRegressor, RandomForestRegressor\n",
    "from sklearn.model_selection import train_test_split\n",
    "from pandas.io.json import json_normalize\n",
    "from IPython.display import clear_output\n",
    "import ipywidgets as widgets"
   ]
  },
  {
   "cell_type": "code",
   "execution_count": null,
   "metadata": {},
   "outputs": [],
   "source": []
  },
  {
   "cell_type": "code",
   "execution_count": 3,
   "metadata": {},
   "outputs": [],
   "source": [
    "data = pd.read_csv(\"data/kc_house_data.csv\")"
   ]
  },
  {
   "cell_type": "code",
   "execution_count": 4,
   "metadata": {},
   "outputs": [],
   "source": [
    "labels = data['price']\n",
    "conv_dates = [1 if values == 2014 else 0 for values in data.date ]\n",
    "data['date'] = conv_dates\n",
    "train1 = data.drop(['id', 'price'],axis=1)"
   ]
  },
  {
   "cell_type": "code",
   "execution_count": 6,
   "metadata": {},
   "outputs": [],
   "source": [
    "x_train, x_test, y_train, y_test = train_test_split(train1, labels, test_size=0.10, random_state=2)\n"
   ]
  },
  {
   "cell_type": "code",
   "execution_count": 7,
   "metadata": {},
   "outputs": [],
   "source": [
    "col_imp = [\"grade\", \"lat\", \"long\", \"sqft_living\", \"waterfront\", \"yr_built\"]"
   ]
  },
  {
   "cell_type": "code",
   "execution_count": 8,
   "metadata": {},
   "outputs": [],
   "source": [
    "clf = GradientBoostingRegressor(n_estimators=400, max_depth=5, min_samples_split=2,\n",
    "          learning_rate=0.1, loss='ls')"
   ]
  },
  {
   "cell_type": "code",
   "execution_count": 9,
   "metadata": {},
   "outputs": [
    {
     "name": "stderr",
     "output_type": "stream",
     "text": [
      "/opt/conda/lib/python3.7/site-packages/sklearn/ensemble/_gb.py:290: FutureWarning: The loss 'ls' was deprecated in v1.0 and will be removed in version 1.2. Use 'squared_error' which is equivalent.\n",
      "  FutureWarning,\n"
     ]
    },
    {
     "data": {
      "text/plain": [
       "GradientBoostingRegressor(loss='ls', max_depth=5, n_estimators=400)"
      ]
     },
     "execution_count": 9,
     "metadata": {},
     "output_type": "execute_result"
    }
   ],
   "source": [
    "clf.fit(train1[col_imp], labels)"
   ]
  },
  {
   "cell_type": "code",
   "execution_count": 10,
   "metadata": {},
   "outputs": [],
   "source": [
    "def predict(dict_values, col_imp=col_imp, clf=clf):\n",
    "    x = np.array([float(dict_values[col]) for col in col_imp])\n",
    "    x = x.reshape(1,-1)\n",
    "    y_pred = clf.predict(x)[0]\n",
    "    y_pred_string = \"$\"+ str(round(y_pred,2))\n",
    "    return y_pred_string"
   ]
  },
  {
   "cell_type": "code",
   "execution_count": 13,
   "metadata": {},
   "outputs": [],
   "source": [
    "score_btn = widgets.Button(description='Predict Price', \n",
    "                           button_style='primary',\n",
    "                           layout = widgets.Layout(width='auto', height='40px'))\n",
    "btn_select_random = widgets.Button(description = 'Select Random House', \n",
    "                                   layout = widgets.Layout(width='auto', height='auto'))\n",
    "out_select = widgets.Output(layout={'border': '1px solid black'})\n",
    "out_score = widgets.Output(layout={'border': '1px solid black'})\n",
    "\n",
    "\n",
    "widgets.Layout(width = 'auto')\n",
    "\n",
    "def btn_select_random_eventhandler(obj):\n",
    "    with out_select:\n",
    "        global x_test_json\n",
    "        x_test_json = x_test[col_imp].iloc[rand.randint(1,2100)].T.replace('},{', '} {')\n",
    "        clear_output()\n",
    "        print(x_test_json)\n",
    "    with out_score:\n",
    "        clear_output()\n",
    "          \n",
    "        \n",
    "        \n",
    "def btn_score_eventhandler(obj):\n",
    "    with out_score:\n",
    "        clear_output()\n",
    "        print(\"Predicted Price: $\",predict(x_test_json) )"
   ]
  },
  {
   "cell_type": "markdown",
   "metadata": {},
   "source": [
    "### Render notebook as web app using Viola"
   ]
  },
  {
   "cell_type": "code",
   "execution_count": 14,
   "metadata": {},
   "outputs": [
    {
     "data": {
      "application/vnd.jupyter.widget-view+json": {
       "model_id": "775f7f805e59415384bf3d0fc925e8e9",
       "version_major": 2,
       "version_minor": 0
      },
      "text/plain": [
       "VBox(children=(Button(description='Select Random House', layout=Layout(height='auto', width='auto'), style=But…"
      ]
     },
     "metadata": {},
     "output_type": "display_data"
    }
   ],
   "source": [
    "display(widgets.VBox([btn_select_random,out_select,score_btn,out_score]))\n",
    "\n",
    "btn_select_random.on_click(btn_select_random_eventhandler)\n",
    "score_btn.on_click(btn_score_eventhandler)"
   ]
  }
 ],
 "metadata": {
  "kernelspec": {
   "display_name": "Python 3 (Data Science)",
   "language": "python",
   "name": "python3__SAGEMAKER_INTERNAL__arn:aws:sagemaker:us-east-1:081325390199:image/datascience-1.0"
  },
  "language_info": {
   "codemirror_mode": {
    "name": "ipython",
    "version": 3
   },
   "file_extension": ".py",
   "mimetype": "text/x-python",
   "name": "python",
   "nbconvert_exporter": "python",
   "pygments_lexer": "ipython3",
   "version": "3.7.10"
  }
 },
 "nbformat": 4,
 "nbformat_minor": 4
}
