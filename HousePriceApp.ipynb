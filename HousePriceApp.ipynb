{
 "cells": [
  {
   "cell_type": "markdown",
   "metadata": {},
   "source": [
    "#### The purpose of this notebook is to demonstrate a notional ML application, indended for deployment via and MLOps pipeline"
   ]
  },
  {
   "cell_type": "code",
   "execution_count": 4,
   "metadata": {},
   "outputs": [],
   "source": [
    "import pandas as pd\n",
    "import numpy as np\n",
    "import sklearn\n",
    "import random as rand\n",
    "from sklearn.ensemble import GradientBoostingRegressor, RandomForestRegressor\n",
    "from sklearn.model_selection import train_test_split\n",
    "from pandas.io.json import json_normalize\n",
    "from IPython.display import clear_output\n",
    "import ipywidgets as widgets"
   ]
  },
  {
   "cell_type": "code",
   "execution_count": 5,
   "metadata": {},
   "outputs": [],
   "source": [
    "data = pd.read_csv(\"demo/data/kc_house_data.csv\")"
   ]
  },
  {
   "cell_type": "code",
   "execution_count": 6,
   "metadata": {},
   "outputs": [],
   "source": [
    "labels = data['price']\n",
    "conv_dates = [1 if values == 2014 else 0 for values in data.date ]\n",
    "data['date'] = conv_dates\n",
    "train1 = data.drop(['id', 'price'],axis=1)"
   ]
  },
  {
   "cell_type": "code",
   "execution_count": 7,
   "metadata": {},
   "outputs": [],
   "source": [
    "x_train, x_test, y_train, y_test = train_test_split(train1, labels, test_size=0.10, random_state=2)\n"
   ]
  },
  {
   "cell_type": "code",
   "execution_count": 8,
   "metadata": {},
   "outputs": [],
   "source": [
    "col_imp = [\"grade\", \"lat\", \"long\", \"sqft_living\", \"waterfront\", \"yr_built\"]"
   ]
  },
  {
   "cell_type": "code",
   "execution_count": 10,
   "metadata": {},
   "outputs": [],
   "source": [
    "rf_regressor = RandomForestRegressor(n_estimators=60, min_samples_leaf=30)"
   ]
  },
  {
   "cell_type": "code",
   "execution_count": 11,
   "metadata": {},
   "outputs": [
    {
     "data": {
      "text/plain": [
       "RandomForestRegressor(min_samples_leaf=30, n_estimators=60)"
      ]
     },
     "execution_count": 11,
     "metadata": {},
     "output_type": "execute_result"
    }
   ],
   "source": [
    "rf_regressor.fit(train1[col_imp].values, labels)"
   ]
  },
  {
   "cell_type": "code",
   "execution_count": 14,
   "metadata": {},
   "outputs": [],
   "source": [
    "def predict(dict_values, col_imp=col_imp, clf=rf_regressor):\n",
    "    x = np.array([float(dict_values[col]) for col in col_imp])\n",
    "    x = x.reshape(1,-1)\n",
    "    y_pred = rf_regressor.predict(x)[0]\n",
    "    y_pred_string = \"$\"+ str(round(y_pred,2))\n",
    "    return y_pred_string"
   ]
  },
  {
   "cell_type": "code",
   "execution_count": 15,
   "metadata": {},
   "outputs": [],
   "source": [
    "score_btn = widgets.Button(description='Predict Price', \n",
    "                           button_style='primary',\n",
    "                           layout = widgets.Layout(width='auto', height='40px'))\n",
    "btn_select_random = widgets.Button(description = 'Select Random House', \n",
    "                                   layout = widgets.Layout(width='auto', height='auto'))\n",
    "out_select = widgets.Output(layout={'border': '1px solid black'})\n",
    "out_score = widgets.Output(layout={'border': '1px solid black'})\n",
    "\n",
    "\n",
    "widgets.Layout(width = 'auto')\n",
    "\n",
    "def btn_select_random_eventhandler(obj):\n",
    "    with out_select:\n",
    "        global x_test_json\n",
    "        x_test_json = x_test[col_imp].iloc[rand.randint(1,2100)].T.replace('},{', '} {')\n",
    "        clear_output()\n",
    "        print(x_test_json)\n",
    "    with out_score:\n",
    "        clear_output()\n",
    "          \n",
    "        \n",
    "        \n",
    "def btn_score_eventhandler(obj):\n",
    "    with out_score:\n",
    "        clear_output()\n",
    "        print(\"Predicted Price: $\",predict(x_test_json) )"
   ]
  },
  {
   "cell_type": "markdown",
   "metadata": {},
   "source": [
    "### Render notebook as web app using Viola"
   ]
  },
  {
   "cell_type": "code",
   "execution_count": 16,
   "metadata": {},
   "outputs": [
    {
     "data": {
      "application/vnd.jupyter.widget-view+json": {
       "model_id": "f45879f7d3a84072a54b4cef4550ddb3",
       "version_major": 2,
       "version_minor": 0
      },
      "text/plain": [
       "VBox(children=(Button(description='Select Random House', layout=Layout(height='auto', width='auto'), style=But…"
      ]
     },
     "metadata": {},
     "output_type": "display_data"
    }
   ],
   "source": [
    "display(widgets.VBox([btn_select_random,out_select,score_btn,out_score]))\n",
    "\n",
    "btn_select_random.on_click(btn_select_random_eventhandler)\n",
    "score_btn.on_click(btn_score_eventhandler)"
   ]
  },
  {
   "cell_type": "code",
   "execution_count": null,
   "metadata": {},
   "outputs": [],
   "source": []
  }
 ],
 "metadata": {
  "instance_type": "ml.t3.medium",
  "kernelspec": {
   "display_name": "Python 3 (Data Science)",
   "language": "python",
   "name": "python3__SAGEMAKER_INTERNAL__arn:aws:sagemaker:us-east-1:081325390199:image/datascience-1.0"
  },
  "language_info": {
   "codemirror_mode": {
    "name": "ipython",
    "version": 3
   },
   "file_extension": ".py",
   "mimetype": "text/x-python",
   "name": "python",
   "nbconvert_exporter": "python",
   "pygments_lexer": "ipython3",
   "version": "3.7.10"
  }
 },
 "nbformat": 4,
 "nbformat_minor": 4
}
